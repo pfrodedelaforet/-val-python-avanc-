{
 "cells": [
  {
   "cell_type": "markdown",
   "metadata": {},
   "source": [
    "Ce notebook correspond à l'évaluation du module python avancé, consistant en l'implémentation d'un programme qui permet de trouver la distance entre deux brins d'ADN modélisés par des chaines de caractère"
   ]
  },
  {
   "cell_type": "code",
   "execution_count": 28,
   "metadata": {},
   "outputs": [
    {
     "name": "stdout",
     "output_type": "stream",
     "text": [
      "[[0 1 2]\n",
      " [1 0 1]\n",
      " [2 1 0]\n",
      " [3 2 1]]\n",
      "('abc', 'bc=')\n"
     ]
    },
    {
     "ename": "AttributeError",
     "evalue": "'Ruler' object has no attribute '_dist'",
     "output_type": "error",
     "traceback": [
      "\u001b[1;31m---------------------------------------------------------------------------\u001b[0m",
      "\u001b[1;31mAttributeError\u001b[0m                            Traceback (most recent call last)",
      "\u001b[1;32m<ipython-input-28-4c20d3908b84>\u001b[0m in \u001b[0;36m<module>\u001b[1;34m\u001b[0m\n\u001b[0;32m    104\u001b[0m \u001b[0mprint\u001b[0m\u001b[1;33m(\u001b[0m\u001b[0mruler\u001b[0m\u001b[1;33m.\u001b[0m\u001b[0mF\u001b[0m\u001b[1;33m)\u001b[0m\u001b[1;33m\u001b[0m\u001b[1;33m\u001b[0m\u001b[0m\n\u001b[0;32m    105\u001b[0m \u001b[0mprint\u001b[0m\u001b[1;33m(\u001b[0m\u001b[0mruler\u001b[0m\u001b[1;33m.\u001b[0m\u001b[0mreport\u001b[0m\u001b[1;33m(\u001b[0m\u001b[1;33m)\u001b[0m\u001b[1;33m)\u001b[0m\u001b[1;33m\u001b[0m\u001b[1;33m\u001b[0m\u001b[0m\n\u001b[1;32m--> 106\u001b[1;33m \u001b[0mprint\u001b[0m\u001b[1;33m(\u001b[0m\u001b[0mruler\u001b[0m\u001b[1;33m.\u001b[0m\u001b[0mdistance\u001b[0m\u001b[1;33m)\u001b[0m\u001b[1;33m\u001b[0m\u001b[1;33m\u001b[0m\u001b[0m\n\u001b[0m\u001b[0;32m    107\u001b[0m \u001b[1;34m\"\"\" à reprendre la prochaine fois : la gestion des colonnes hors de len(chaine1), cf exemple la derniere colonne, et aussi la gestion de i=1 ou j=1 dans report\"\"\"\u001b[0m\u001b[1;33m\u001b[0m\u001b[1;33m\u001b[0m\u001b[0m\n",
      "\u001b[1;32m<ipython-input-28-4c20d3908b84>\u001b[0m in \u001b[0;36mdistance\u001b[1;34m(self)\u001b[0m\n\u001b[0;32m     81\u001b[0m     \u001b[1;33m@\u001b[0m\u001b[0mproperty\u001b[0m\u001b[1;33m\u001b[0m\u001b[1;33m\u001b[0m\u001b[0m\n\u001b[0;32m     82\u001b[0m     \u001b[1;32mdef\u001b[0m \u001b[0mdistance\u001b[0m\u001b[1;33m(\u001b[0m\u001b[0mself\u001b[0m\u001b[1;33m)\u001b[0m\u001b[1;33m:\u001b[0m\u001b[1;33m\u001b[0m\u001b[1;33m\u001b[0m\u001b[0m\n\u001b[1;32m---> 83\u001b[1;33m         \u001b[1;32mreturn\u001b[0m \u001b[0mself\u001b[0m\u001b[1;33m.\u001b[0m\u001b[0m_dist\u001b[0m\u001b[1;33m\u001b[0m\u001b[1;33m\u001b[0m\u001b[0m\n\u001b[0m\u001b[0;32m     84\u001b[0m     \u001b[1;33m@\u001b[0m\u001b[0mproperty\u001b[0m\u001b[1;33m\u001b[0m\u001b[1;33m\u001b[0m\u001b[0m\n\u001b[0;32m     85\u001b[0m     \u001b[1;32mdef\u001b[0m \u001b[0mchaine1\u001b[0m\u001b[1;33m(\u001b[0m\u001b[0mself\u001b[0m\u001b[1;33m)\u001b[0m\u001b[1;33m:\u001b[0m\u001b[1;33m\u001b[0m\u001b[1;33m\u001b[0m\u001b[0m\n",
      "\u001b[1;31mAttributeError\u001b[0m: 'Ruler' object has no attribute '_dist'"
     ]
    }
   ],
   "source": [
    "import numpy as np\n",
    "class Ruler :\n",
    "    def __init__(self, chaine1 : str, chaine2 : str, d = 1, M = None) : \n",
    "        self.size = max(len(chaine1), len(chaine2))\n",
    "        if M == None :\n",
    "            M = np.array([[1 for j in range(self.size)]\n",
    "                             for i in range(self.size)])\n",
    "            for i in range(self.size) : \n",
    "                M[i,i] -= 1\n",
    "        self.M = M\n",
    "        self.d = d\n",
    "        self.chaine1 = chaine1\n",
    "        self.chaine2 = chaine2\n",
    "\n",
    "    def compute(self):\n",
    "        \"\"\"\"ici le calcul de distance que \n",
    "        l'utilisateur doit explicitement lancer\"\"\"\n",
    "        chaine1 = self.chaine1\n",
    "        chaine2 = self.chaine2\n",
    "        d = self.d\n",
    "        F=np.array([[None for j in range(len(chaine2)+1)]for i in range(len(chaine1)+1)]) #le +1 sert à caser les pénalités initiales de trou en 0\n",
    "        for i in range(len(chaine1) +1):\n",
    "            F[i, 0] = self.d * i\n",
    "        for j in range(len(chaine2) +1):\n",
    "            F[0, j] = self.d * j\n",
    "        for n in range(2, len(chaine1) + len(chaine2) + 1): # n correspond à la valeur de i+j\n",
    "            for i in range(1, min(len(chaine1)+1, n)): #attention, à cause des cases précédentes, i va de 1 à n-1 et j aussi\n",
    "                j = n - i \n",
    "                if (j <= len(chaine2)): #cas classique où on peut utiliser la matrice de passage\n",
    "                    trouchaine1 = F[i, j-1] + d\n",
    "                    trouchaine2 = F[i-1, j] + d\n",
    "                    pastrou = F[i-1, j-1] + self.M[i-1, j-1] # en réalité, il s'agit du passage de i à j, mais ceux-ci sont décalés\n",
    "                    F[i, j] = min(trouchaine1, trouchaine2, pastrou)\n",
    "        self.F = F\n",
    "        self.dist = F[len(chaine1), len(chaine2)]\n",
    "   \n",
    "    def report(self):\n",
    "        chaine1 = self.chaine1\n",
    "        chaine2 = self.chaine2\n",
    "        d = self.d\n",
    "        i = len(chaine1) ; j = len(chaine2) ; newc1 = \"\" ; newc2 = \"\"\n",
    "        while i > 1 and j > 1 : \n",
    "            if self.F[i, j] == self.F[i-1, j-1] + self.M[i-1, j-1]:\n",
    "                newc1 = chaine1[i-1] + newc1 #les caractères des\n",
    "                newc2 = chaine2[j-1] + newc2\n",
    "                i = i-1\n",
    "                j = j-1\n",
    "                continue\n",
    "            if self.F[i,j] == self.F[i-1, j] + d : \n",
    "                newc1 = chaine1[i-1] + newc1\n",
    "                newc2 = \"=\" + newc2\n",
    "                i-=1\n",
    "            else : \n",
    "                newc2 = chaine2[j-1] + newc2\n",
    "                newc1 = \"=\" + newc1\n",
    "                j-=1 \n",
    "        if (i == 1 and j == 1):#cas particulier à traiter : si la première lettre est identique\n",
    "            newc1 = chaine1[i-1] + newc1\n",
    "            newc2 = chaine2[j-1] + newc2\n",
    "            return (newc1, newc2)\n",
    "        while j >= 1 :  \n",
    "            newc2 = chaine2[j-1] + newc2\n",
    "            newc1 = \"=\" + newc1\n",
    "            j-=1\n",
    "        while i >= 1 :\n",
    "            newc1 = chaine1[i-1] + newc1\n",
    "            newc2 = \"=\" + newc2\n",
    "            i-=1\n",
    "            \n",
    "        \"\"\"else :\n",
    "                newc2 = \"=\" + newc2\n",
    "                newc1 = \"=\" + newc1 \"\"\"\n",
    "            \n",
    "        \n",
    "        \"\"\"else : \n",
    "                newc1 = \"=\" + newc1\n",
    "                newc2 = \"=\" + newc2\"\"\"\n",
    "            \n",
    "        return (newc1, newc2)\n",
    "    @property\n",
    "    def distance(self):\n",
    "        return self._dist\n",
    "    @property \n",
    "    def chaine1(self):\n",
    "        return self._chaine1\n",
    "    @chaine1.setter\n",
    "    def chaine1(self, c1 : str):\n",
    "        self._chaine1 = c1\n",
    "    @property \n",
    "    def chaine2(self):\n",
    "        return self._chaine2\n",
    "    @chaine2.setter\n",
    "    def chaine2(self, c2 : str):\n",
    "        self._chaine2 = c2\n",
    "    @property\n",
    "    def F(self):\n",
    "        return self._F\n",
    "    @F.setter\n",
    "    def F(self, M):\n",
    "        self._F = M\n",
    "ruler = Ruler(\"abc\",'bc')\n",
    "ruler.compute()\n",
    "print(ruler.F)\n",
    "print(ruler.report())\n",
    "print(ruler.distance)\n",
    "\"\"\" à reprendre la prochaine fois : la gestion des colonnes hors de len(chaine1), cf exemple la derniere colonne, et aussi la gestion de i=1 ou j=1 dans report\"\"\""
   ]
  },
  {
   "cell_type": "markdown",
   "metadata": {},
   "source": [
    "On remarque qu'on aurait pu essayer d'éviter de dissocier le calcul de la distance entre chaine1 et chaine2 et la création de chaines plus facilement comparables(report dans l'énoncé), en intégrant la création des chaines modifiées à la boucle de calcul de la matrice F. Cependant, cela est impossible, car on doit connaitre la dernière case créée, et donc la matrice complète, pour pouvoir ensuite déterminer le chemin qui a été parcouru pour arriver à cette valeur pour la case finale. On n'intègre pas la création des chaines de caractère à compute de manière à ce qu'une fois la matrice F calculée, on n'ait pas à la calculer à chaque fois qu'on veut afficher les chaines. L'inconvénient de cette méthode est qu'on doit par contre à chacun des appels de report reparcourir la matrice F pour afficher top et bottom; il ne s'agit pas là d'un simple print. "
   ]
  }
 ],
 "metadata": {
  "kernelspec": {
   "display_name": "Python 3",
   "language": "python",
   "name": "python3"
  },
  "language_info": {
   "codemirror_mode": {
    "name": "ipython",
    "version": 3
   },
   "file_extension": ".py",
   "mimetype": "text/x-python",
   "name": "python",
   "nbconvert_exporter": "python",
   "pygments_lexer": "ipython3",
   "version": "3.7.3"
  }
 },
 "nbformat": 4,
 "nbformat_minor": 2
}
