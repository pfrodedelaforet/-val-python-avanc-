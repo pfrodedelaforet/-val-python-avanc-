{
 "cells": [
  {
   "cell_type": "markdown",
   "metadata": {},
   "source": [
    "Ce notebook correspond à l'évaluation du module python avancé, consistant en l'implémentation d'un programme qui permet de trouver la distance entre deux brins d'ADN modélisés par des chaines de caractère"
   ]
  },
  {
   "cell_type": "code",
   "execution_count": 2,
   "metadata": {},
   "outputs": [],
   "source": [
    "import numpy as np\n",
    "class Ruler :\n",
    "    def __init__(self, chaine1 : str, chaine2 : str, d = 1, M = None) : \n",
    "        self.size = max(len(chaine1), len(chaine2))\n",
    "        if M == None :\n",
    "            M = np.array([[1 for j in range(self.size)]\n",
    "                             for i in range(self.size)]) - np.identity(self.size)\n",
    "        self.M = M\n",
    "        self.d = d\n",
    "        self.chaine1 = chaine1\n",
    "        self.chaine2 = chaine2\n",
    "        self.report = None\n",
    "        self.dist = None\n",
    "    \n",
    "    def compute(self):\n",
    "        \"\"\"\"ici le calcul de distance que \n",
    "        l'utilisateur doit explicitement lancer\"\"\"\n",
    "        F=np.array([[None for j in range(self.size+1)]for i in range(self.size+1)]) #le +1 sert à caser les pénalités initiales de trou en 0\n",
    "        \n",
    "        for i in range(self.size +1):\n",
    "            F[i, 0] = self.d * i\n",
    "            F[0, i] = self.d * i\n",
    "        for n in range(2, len(chaine1) + len(chaine2)+1): # n correspond à la valeur de i+j\n",
    "            for i in range(1, min(self.size+1, n)): #attention, à cause des cases précédentes, i va de 1 à n-1 et j aussi\n",
    "                j = n - i \n",
    "                if j > self.size : \n",
    "                    continue\n",
    "                if (i <= len(chaine1) and j <= len(chaine2)): #cas classique où on peut utiliser la matrice de passage\n",
    "                    trouchaine1 = F[i-1, j] + d\n",
    "                    trouchaine2 = F[i, j-1] + d\n",
    "                    pastrou = F[i-1, j-1] + self.M[i-1, j-1] # en réalité, il s'agit du passage de i à j, mais ceux-ci sont décalés\n",
    "                    F[i, j] = min(trouchaine1, trouchaine2, pastrou)\n",
    "                elif i > len(chaine1) : \n",
    "                    F[i, j] = F[i-1, j] + d\n",
    "                elif j > len(chaine2) : # les cas sont bien disjoints\n",
    "                    F[i, j] = F[i, j-1] + d\n",
    "        self.F = F\n",
    "        self.dist = F[self.size, self.size]\n",
    "    def report(self):\n",
    "        i = self.size ; j = self.size ; newc1 = \"\" ; newc2 = \"\"\n",
    "        while i > 0 and j > 0 : \n",
    "            if self.F[i, j] == self.F[i-1, j-1] + self.M[i-1, j-1]:\n",
    "                newc1 = chaine1[i-1] + newc1\n",
    "                newc2 = chaine2[j-1] + newc2\n",
    "                i = i-1\n",
    "                j = j-1\n",
    "                continue\n",
    "                \n",
    "                \n",
    "    @property\n",
    "    def distance(self):\n",
    "        return self._dist\n",
    "    @property \n",
    "    def chaine1(self):\n",
    "        return self._chaine1\n",
    "    @chaine1.setter\n",
    "    def chaine1(self, c1 : str):\n",
    "        self._chaine1 = c1\n",
    "    @property \n",
    "    def chaine2(self):\n",
    "        return self._chaine2\n",
    "    @chaine2.setter\n",
    "    def chaine2(self, c2 : str):\n",
    "        self._chaine2 = c2\n",
    "    \n",
    "ruler = Ruler(\"ab\",'cd')"
   ]
  },
  {
   "cell_type": "markdown",
   "metadata": {},
   "source": [
    "On remarque qu'on aurait pu essayer d'éviter de dissocier le calcul de la distance entre chaine1 et chaine2 et la création de chaines plus facilement comparables(report dans l'énoncé), en intégrant la création des chaines modifiées à la boucle de calcul de la matrice F. Cependant, cela est impossible, car on doit connaitre la dernière case créée, et donc la matrice complète, pour pouvoir ensuite déterminer le chemin qui a été parcouru pour arriver à cette valeur pour la case finale. On n'intègre pas la création des chaines de caractère à compute de manière à ce qu'une fois la matrice F calculée, on n'ait pas à la calculer à chaque fois qu'on veut afficher les chaines. L'inconvénient de cette méthode est qu'on doit par contre à chacun des appels de report reparcourir la matrice F pour afficher top et bottom; il ne s'agit pas là d'un simple print. "
   ]
  }
 ],
 "metadata": {
  "kernelspec": {
   "display_name": "Python 3",
   "language": "python",
   "name": "python3"
  },
  "language_info": {
   "codemirror_mode": {
    "name": "ipython",
    "version": 3
   },
   "file_extension": ".py",
   "mimetype": "text/x-python",
   "name": "python",
   "nbconvert_exporter": "python",
   "pygments_lexer": "ipython3",
   "version": "3.7.3"
  }
 },
 "nbformat": 4,
 "nbformat_minor": 2
}
